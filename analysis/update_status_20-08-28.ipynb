{
 "cells": [
  {
   "cell_type": "markdown",
   "metadata": {
    "collapsed": true,
    "pycharm": {
     "name": "#%% md\n"
    }
   },
   "source": [
    "# Status Update 28.08.2020"
   ]
  },
  {
   "cell_type": "code",
   "execution_count": 11,
   "metadata": {
    "pycharm": {
     "is_executing": true,
     "name": "#%%\n"
    }
   },
   "outputs": [],
   "source": [
    "%matplotlib ipympl\n",
    "from common_import import *\n",
    "from my_utils.environment import *\n",
    "from my_utils.output_costmap import *\n",
    "from IPython.display import HTML, display\n",
    "\n",
    "\n",
    "show_result = 'SHOW'\n",
    "nb_points = 40\n",
    "nb_rbfs = 5\n",
    "sigma = 0.1\n",
    "nb_samples = 10\n",
    "\n",
    "workspace = Workspace()\n",
    "\n",
    "w, costmap, starts, targets, paths = load_environment(\"environment0\")"
   ]
  },
  {
   "cell_type": "markdown",
   "metadata": {
    "pycharm": {
     "name": "#%% md\n"
    }
   },
   "source": [
    "# Costmap"
   ]
  },
  {
   "cell_type": "code",
   "execution_count": 12,
   "metadata": {
    "pycharm": {
     "name": "#%%\n"
    }
   },
   "outputs": [
    {
     "data": {
      "application/vnd.jupyter.widget-view+json": {
       "model_id": "1d22e41fac524ea29e47505f82f90d2c",
       "version_major": 2,
       "version_minor": 0
      },
      "text/plain": [
       "Canvas(toolbar=Toolbar(toolitems=[('Home', 'Reset original view', 'home', 'home'), ('Back', 'Back to previous …"
      ]
     },
     "metadata": {},
     "output_type": "display_data"
    },
    {
     "name": "stdout",
     "output_type": "stream",
     "text": [
      "<class 'matplotlib.axes._subplots.AxesSubplot'>\n"
     ]
    }
   ],
   "source": [
    "show(costmap, workspace, show_result, starts=starts[:nb_samples],\n",
    "     targets=targets[:nb_samples], paths=paths[:nb_samples])"
   ]
  },
  {
   "cell_type": "code",
   "execution_count": 13,
   "metadata": {
    "pycharm": {
     "name": "#%%\n"
    }
   },
   "outputs": [
    {
     "data": {
      "application/vnd.jupyter.widget-view+json": {
       "model_id": "8a9acab5477e4d74a313fc899d43fee6",
       "version_major": 2,
       "version_minor": 0
      },
      "text/plain": [
       "Canvas(toolbar=Toolbar(toolitems=[('Home', 'Reset original view', 'home', 'home'), ('Back', 'Back to previous …"
      ]
     },
     "metadata": {},
     "output_type": "display_data"
    }
   ],
   "source": [
    "show_3D(costmap, workspace, show_result, starts=starts[:nb_samples],\n",
    "        targets=targets[:nb_samples], paths=paths[:nb_samples])"
   ]
  },
  {
   "cell_type": "markdown",
   "metadata": {
    "pycharm": {
     "name": "#%% md\n"
    }
   },
   "source": [
    "# LEARCH"
   ]
  },
  {
   "cell_type": "code",
   "execution_count": 14,
   "metadata": {
    "pycharm": {
     "is_executing": true,
     "name": "#%%\n"
    }
   },
   "outputs": [
    {
     "data": {
      "application/vnd.jupyter.widget-view+json": {
       "model_id": "cf8b650e1bda4808957b569c1bbfd2b5",
       "version_major": 2,
       "version_minor": 0
      },
      "text/plain": [
       "Canvas(toolbar=Toolbar(toolitems=[('Home', 'Reset original view', 'home', 'home'), ('Back', 'Back to previous …"
      ]
     },
     "metadata": {},
     "output_type": "display_data"
    },
    {
     "data": {
      "text/plain": [
       "<matplotlib.animation.FuncAnimation at 0x246d7510>"
      ]
     },
     "execution_count": 14,
     "metadata": {},
     "output_type": "execute_result"
    }
   ],
   "source": [
    "filename = 'learch_100samples04convergence'\n",
    "\n",
    "maps, optimal_paths, _, starts, targets, paths = \\\n",
    "    get_results(home + '/../results/learning/' + filename + '.npz')\n",
    "\n",
    "# Output animated 3D plot\n",
    "animated_plot(maps, workspace, 'NONE', \n",
    "              #starts=starts, targets=targets, paths=paths, #optimal_paths=optimal_paths,\n",
    "             )"
   ]
  },
  {
   "cell_type": "code",
   "execution_count": 15,
   "metadata": {
    "pycharm": {
     "is_executing": true
    }
   },
   "outputs": [
    {
     "data": {
      "application/vnd.jupyter.widget-view+json": {
       "model_id": "d539d726c4f04307ac90d55218f98474",
       "version_major": 2,
       "version_minor": 0
      },
      "text/plain": [
       "Canvas(toolbar=Toolbar(toolitems=[('Home', 'Reset original view', 'home', 'home'), ('Back', 'Back to previous …"
      ]
     },
     "metadata": {},
     "output_type": "display_data"
    },
    {
     "name": "stdout",
     "output_type": "stream",
     "text": [
      "<class 'numpy.ndarray'>\n"
     ]
    }
   ],
   "source": [
    "show_multiple(maps, [costmap], workspace, show_result)\n"
   ]
  },
  {
   "cell_type": "markdown",
   "metadata": {
    "pycharm": {
     "name": "#%% md\n"
    }
   },
   "source": [
    "# MaxEnt"
   ]
  },
  {
   "cell_type": "code",
   "execution_count": 16,
   "metadata": {
    "pycharm": {
     "is_executing": true,
     "name": "#%%\n"
    }
   },
   "outputs": [
    {
     "data": {
      "application/vnd.jupyter.widget-view+json": {
       "model_id": "48c33f0fd89c44f2b3a9b69788df6092",
       "version_major": 2,
       "version_minor": 0
      },
      "text/plain": [
       "Canvas(toolbar=Toolbar(toolitems=[('Home', 'Reset original view', 'home', 'home'), ('Back', 'Back to previous …"
      ]
     },
     "metadata": {},
     "output_type": "display_data"
    },
    {
     "data": {
      "text/plain": [
       "<matplotlib.animation.FuncAnimation at 0x27dd1950>"
      ]
     },
     "execution_count": 16,
     "metadata": {},
     "output_type": "execute_result"
    }
   ],
   "source": [
    "filename = 'maxEnt_100samples004convergence'\n",
    "\n",
    "maps, optimal_paths, _, starts, targets, paths = \\\n",
    "    get_results(home + '/../results/learning/' + filename + '.npz')\n",
    "\n",
    "# Output animated 3D plot\n",
    "animated_plot(maps, workspace, 'NONE', \n",
    "             #starts=starts, targets=targets, paths=paths, #optimal_paths=optimal_paths,\n",
    "             )"
   ]
  },
  {
   "cell_type": "code",
   "execution_count": 17,
   "metadata": {},
   "outputs": [
    {
     "data": {
      "application/vnd.jupyter.widget-view+json": {
       "model_id": "52be5c16ade140c996c3f0119b257e75",
       "version_major": 2,
       "version_minor": 0
      },
      "text/plain": [
       "Canvas(toolbar=Toolbar(toolitems=[('Home', 'Reset original view', 'home', 'home'), ('Back', 'Back to previous …"
      ]
     },
     "metadata": {},
     "output_type": "display_data"
    },
    {
     "name": "stdout",
     "output_type": "stream",
     "text": [
      "<class 'numpy.ndarray'>\n"
     ]
    }
   ],
   "source": [
    "show_multiple(maps, [costmap], workspace, show_result)"
   ]
  },
  {
   "cell_type": "markdown",
   "metadata": {
    "pycharm": {
     "name": "#%% md\n"
    }
   },
   "source": [
    "# Hyperparametersearch with SMAC"
   ]
  },
  {
   "cell_type": "markdown",
   "metadata": {
    "pycharm": {
     "name": "#%% md\n"
    }
   },
   "source": [
    "## LEARCH"
   ]
  },
  {
   "cell_type": "raw",
   "metadata": {
    "pycharm": {
     "name": "#%% raw\n"
    }
   },
   "source": [
    "INFO:smac.stats.stats.Stats:##########################################################\n",
    "INFO:smac.stats.stats.Stats:Statistics:\n",
    "INFO:smac.stats.stats.Stats:#Incumbent changed: 5\n",
    "INFO:smac.stats.stats.Stats:#Target algorithm runs: 250 / 250.0\n",
    "INFO:smac.stats.stats.Stats:#Configurations: 61\n",
    "INFO:smac.stats.stats.Stats:Used wallclock time: 33706.90 / 100000.00 sec\n",
    "INFO:smac.stats.stats.Stats:Used target algorithm runtime: 33689.45 / inf sec\n",
    "INFO:smac.stats.stats.Stats:##########################################################\n",
    "INFO:smac.facade.smac_hpo_facade.SMAC4HPO:Final Incumbent: Configuration:\n",
    "  l2 regularizer, Value: 0.3785515249258632\n",
    "  learning rate, Value: 1.9109375\n",
    "  loss scalar, Value: 19\n",
    "  loss stddev, Value: 10\n",
    "  proximal regularizer, Value: 0.006264335366568854\n",
    "  step size scalar, Value: 20\n",
    "\n",
    "INFO:smac.facade.smac_hpo_facade.SMAC4HPO:Estimated cost of incumbent: 0.485827"
   ]
  },
  {
   "cell_type": "markdown",
   "metadata": {
    "pycharm": {
     "name": "#%% md\n"
    }
   },
   "source": [
    "## MaxEnt"
   ]
  },
  {
   "cell_type": "raw",
   "metadata": {
    "pycharm": {
     "name": "#%% raw\n"
    }
   },
   "source": [
    "INFO:smac.stats.stats.Stats:##########################################################\n",
    "INFO:smac.stats.stats.Stats:Statistics:\n",
    "INFO:smac.stats.stats.Stats:#Incumbent changed: 9\n",
    "INFO:smac.stats.stats.Stats:#Target algorithm runs: 1000 / 1000.0\n",
    "INFO:smac.stats.stats.Stats:#Configurations: 177\n",
    "INFO:smac.stats.stats.Stats:Used wallclock time: 32472.48 / inf sec\n",
    "INFO:smac.stats.stats.Stats:Used target algorithm runtime: 32034.70 / inf sec\n",
    "INFO:smac.stats.stats.Stats:##########################################################\n",
    "INFO:smac.facade.smac_hpo_facade.SMAC4HPO:Final Incumbent: Configuration:\n",
    "  N, Value: 191\n",
    "  learning rate, Value: 0.13821380327871752\n",
    "  step size scalar, Value: 20\n",
    "\n",
    "INFO:smac.facade.smac_hpo_facade.SMAC4HPO:Estimated cost of incumbent: 0.130303"
   ]
  },
  {
   "cell_type": "markdown",
   "metadata": {
    "pycharm": {
     "name": "#%% md\n"
    }
   },
   "source": [
    "# Result\n",
    "## Training and Testing on the same environment"
   ]
  },
  {
   "cell_type": "code",
   "execution_count": 18,
   "metadata": {
    "pycharm": {
     "is_executing": true,
     "name": "#%%\n"
    }
   },
   "outputs": [
    {
     "data": {
      "text/html": [
       "<img src='../results/prediction/comparison_TrainAndTestOnSameCostmap.png'>"
      ],
      "text/plain": [
       "<IPython.core.display.HTML object>"
      ]
     },
     "metadata": {},
     "output_type": "display_data"
    }
   ],
   "source": [
    "display(HTML(\"<img src='../results/prediction/comparison_TrainAndTestOnSameCostmap.png'>\"))"
   ]
  },
  {
   "cell_type": "markdown",
   "metadata": {
    "pycharm": {
     "is_executing": true,
     "name": "#%%\n"
    }
   },
   "source": [
    "## Training on one costmap - Testing on another costmap"
   ]
  },
  {
   "cell_type": "code",
   "execution_count": 20,
   "metadata": {
    "pycharm": {
     "name": "#%%\n"
    }
   },
   "outputs": [
    {
     "data": {
      "text/html": [
       "<img src='../results/prediction/comparison_TrainOnOneCostmapTestOnOtherCostmap.png'>"
      ],
      "text/plain": [
       "<IPython.core.display.HTML object>"
      ]
     },
     "metadata": {},
     "output_type": "display_data"
    }
   ],
   "source": [
    "display(HTML(\"<img src='../results/prediction/comparison_TrainOnOneCostmapTestOnOtherCostmap.png'>\"))"
   ]
  },
  {
   "cell_type": "markdown",
   "metadata": {
    "pycharm": {
     "name": "#%% md\n"
    }
   },
   "source": [
    "## Training on two costmaps - Testing on one of these costmaps"
   ]
  },
  {
   "cell_type": "code",
   "execution_count": 21,
   "metadata": {
    "pycharm": {
     "is_executing": true,
     "name": "#%%\n"
    }
   },
   "outputs": [
    {
     "data": {
      "text/html": [
       "<img src='../results/prediction/comparison_TrainOn2CostmapsTestOnOne.png'>"
      ],
      "text/plain": [
       "<IPython.core.display.HTML object>"
      ]
     },
     "metadata": {},
     "output_type": "display_data"
    }
   ],
   "source": [
    "display(HTML(\"<img src='../results/prediction/comparison_TrainOn2AndTestOnSameCostmap.png'>\"))"
   ]
  }
 ],
 "metadata": {
  "kernelspec": {
   "display_name": "Python 3",
   "language": "python",
   "name": "python3"
  },
  "language_info": {
   "codemirror_mode": {
    "name": "ipython",
    "version": 3
   },
   "file_extension": ".py",
   "mimetype": "text/x-python",
   "name": "python",
   "nbconvert_exporter": "python",
   "pygments_lexer": "ipython3",
   "version": "3.7.3"
  }
 },
 "nbformat": 4,
 "nbformat_minor": 1
}